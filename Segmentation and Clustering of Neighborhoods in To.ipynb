{
    "nbformat_minor": 1, 
    "cells": [
        {
            "source": "# Applied Data Science Capstone\n\n## IBM Data Science \n\n### By Stephen Ewing\n\nThis is my write up for IBM's Applied Data Science Capstone.  ", 
            "cell_type": "markdown", 
            "metadata": {}
        }, 
        {
            "source": "## Get the SOUPs\n\nFirst I'll use the BeautifulSoup package to scrape the table from this Wikipedia page.  <https://en.wikipedia.org/wiki/List_of_postal_codes_of_Canada:_M>", 
            "cell_type": "markdown", 
            "metadata": {
                "collapsed": true
            }
        }, 
        {
            "execution_count": 24, 
            "cell_type": "code", 
            "metadata": {}, 
            "outputs": [], 
            "source": "import requests\nwebsite_url = requests.get('https://en.wikipedia.org/wiki/List_of_postal_codes_of_Canada:_M').text\n\nfrom bs4 import BeautifulSoup\nsoup = BeautifulSoup(website_url, 'lxml')"
        }, 
        {
            "source": "## Make the PANDAs\n\nThis will snag all the table parts and put them together into a big ol' list.  The it'll get rid of the carrage returns.  Fianlly, it will grab every 3rd item to make each of the 3 columns.", 
            "cell_type": "markdown", 
            "metadata": {}
        }, 
        {
            "execution_count": 25, 
            "cell_type": "code", 
            "metadata": {}, 
            "outputs": [
                {
                    "execution_count": 25, 
                    "metadata": {}, 
                    "data": {
                        "text/html": "<div>\n<style scoped>\n    .dataframe tbody tr th:only-of-type {\n        vertical-align: middle;\n    }\n\n    .dataframe tbody tr th {\n        vertical-align: top;\n    }\n\n    .dataframe thead th {\n        text-align: right;\n    }\n</style>\n<table border=\"1\" class=\"dataframe\">\n  <thead>\n    <tr style=\"text-align: right;\">\n      <th></th>\n      <th>Borough</th>\n      <th>Neighbourhood</th>\n      <th>Postcode</th>\n    </tr>\n  </thead>\n  <tbody>\n    <tr>\n      <th>0</th>\n      <td>Not assigned</td>\n      <td>Not assigned</td>\n      <td>M1A</td>\n    </tr>\n    <tr>\n      <th>1</th>\n      <td>Not assigned</td>\n      <td>Not assigned</td>\n      <td>M2A</td>\n    </tr>\n    <tr>\n      <th>2</th>\n      <td>North York</td>\n      <td>Parkwoods</td>\n      <td>M3A</td>\n    </tr>\n    <tr>\n      <th>3</th>\n      <td>North York</td>\n      <td>Victoria Village</td>\n      <td>M4A</td>\n    </tr>\n    <tr>\n      <th>4</th>\n      <td>Downtown Toronto</td>\n      <td>Harbourfront</td>\n      <td>M5A</td>\n    </tr>\n    <tr>\n      <th>5</th>\n      <td>Downtown Toronto</td>\n      <td>Regent Park</td>\n      <td>M5A</td>\n    </tr>\n    <tr>\n      <th>6</th>\n      <td>North York</td>\n      <td>Lawrence Heights</td>\n      <td>M6A</td>\n    </tr>\n    <tr>\n      <th>7</th>\n      <td>North York</td>\n      <td>Lawrence Manor</td>\n      <td>M6A</td>\n    </tr>\n    <tr>\n      <th>8</th>\n      <td>Queen's Park</td>\n      <td>Not assigned</td>\n      <td>M7A</td>\n    </tr>\n    <tr>\n      <th>9</th>\n      <td>Not assigned</td>\n      <td>Not assigned</td>\n      <td>M8A</td>\n    </tr>\n    <tr>\n      <th>10</th>\n      <td>Etobicoke</td>\n      <td>Islington Avenue</td>\n      <td>M9A</td>\n    </tr>\n  </tbody>\n</table>\n</div>", 
                        "text/plain": "             Borough     Neighbourhood Postcode\n0       Not assigned      Not assigned      M1A\n1       Not assigned      Not assigned      M2A\n2         North York         Parkwoods      M3A\n3         North York  Victoria Village      M4A\n4   Downtown Toronto      Harbourfront      M5A\n5   Downtown Toronto       Regent Park      M5A\n6         North York  Lawrence Heights      M6A\n7         North York    Lawrence Manor      M6A\n8       Queen's Park      Not assigned      M7A\n9       Not assigned      Not assigned      M8A\n10         Etobicoke  Islington Avenue      M9A"
                    }, 
                    "output_type": "execute_result"
                }
            ], 
            "source": "list_thingy = []\nfor tr in soup.findAll(\"table\"):\n     for td in tr.find_all(\"td\"):\n         if not td.attrs.get('style'):\n             list_thingy.append(td.text)\n\nno_returns = [i.split('\\n', 1)[0] for i in list_thingy]\ncol1 = no_returns[0::3]\ndel(col1[-1])\ncol2 = no_returns[1::3]\ncol3 = no_returns[2::3]\n\nimport pandas as pd\nzip_list = pd.DataFrame({'Postcode': col1, 'Borough': col2, 'Neighbourhood': col3})\nzip_list.head(11)"
        }, 
        {
            "source": "## Cleaning Part 1\n\nThis gets rid of the unassigned boroughs.", 
            "cell_type": "markdown", 
            "metadata": {}
        }, 
        {
            "execution_count": 26, 
            "cell_type": "code", 
            "metadata": {}, 
            "outputs": [
                {
                    "execution_count": 26, 
                    "metadata": {}, 
                    "data": {
                        "text/html": "<div>\n<style scoped>\n    .dataframe tbody tr th:only-of-type {\n        vertical-align: middle;\n    }\n\n    .dataframe tbody tr th {\n        vertical-align: top;\n    }\n\n    .dataframe thead th {\n        text-align: right;\n    }\n</style>\n<table border=\"1\" class=\"dataframe\">\n  <thead>\n    <tr style=\"text-align: right;\">\n      <th></th>\n      <th>Borough</th>\n      <th>Neighbourhood</th>\n      <th>Postcode</th>\n    </tr>\n  </thead>\n  <tbody>\n    <tr>\n      <th>2</th>\n      <td>North York</td>\n      <td>Parkwoods</td>\n      <td>M3A</td>\n    </tr>\n    <tr>\n      <th>3</th>\n      <td>North York</td>\n      <td>Victoria Village</td>\n      <td>M4A</td>\n    </tr>\n    <tr>\n      <th>4</th>\n      <td>Downtown Toronto</td>\n      <td>Harbourfront</td>\n      <td>M5A</td>\n    </tr>\n    <tr>\n      <th>5</th>\n      <td>Downtown Toronto</td>\n      <td>Regent Park</td>\n      <td>M5A</td>\n    </tr>\n    <tr>\n      <th>6</th>\n      <td>North York</td>\n      <td>Lawrence Heights</td>\n      <td>M6A</td>\n    </tr>\n    <tr>\n      <th>7</th>\n      <td>North York</td>\n      <td>Lawrence Manor</td>\n      <td>M6A</td>\n    </tr>\n    <tr>\n      <th>8</th>\n      <td>Queen's Park</td>\n      <td>Not assigned</td>\n      <td>M7A</td>\n    </tr>\n    <tr>\n      <th>10</th>\n      <td>Etobicoke</td>\n      <td>Islington Avenue</td>\n      <td>M9A</td>\n    </tr>\n    <tr>\n      <th>11</th>\n      <td>Scarborough</td>\n      <td>Rouge</td>\n      <td>M1B</td>\n    </tr>\n    <tr>\n      <th>12</th>\n      <td>Scarborough</td>\n      <td>Malvern</td>\n      <td>M1B</td>\n    </tr>\n    <tr>\n      <th>14</th>\n      <td>North York</td>\n      <td>Don Mills North</td>\n      <td>M3B</td>\n    </tr>\n  </tbody>\n</table>\n</div>", 
                        "text/plain": "             Borough     Neighbourhood Postcode\n2         North York         Parkwoods      M3A\n3         North York  Victoria Village      M4A\n4   Downtown Toronto      Harbourfront      M5A\n5   Downtown Toronto       Regent Park      M5A\n6         North York  Lawrence Heights      M6A\n7         North York    Lawrence Manor      M6A\n8       Queen's Park      Not assigned      M7A\n10         Etobicoke  Islington Avenue      M9A\n11       Scarborough             Rouge      M1B\n12       Scarborough           Malvern      M1B\n14        North York   Don Mills North      M3B"
                    }, 
                    "output_type": "execute_result"
                }
            ], 
            "source": "no_unassined_boroughs = zip_list[zip_list['Borough'] != \"Not assigned\"]\nno_unassined_boroughs.head(11)"
        }, 
        {
            "source": "## Cleaning Part 2\n\nWhen the neighborhood doesn't have a name but the bourough does make the neighbourhood name the borough name.", 
            "cell_type": "markdown", 
            "metadata": {}
        }, 
        {
            "execution_count": 22, 
            "cell_type": "code", 
            "metadata": {}, 
            "outputs": [
                {
                    "execution_count": 22, 
                    "metadata": {}, 
                    "data": {
                        "text/html": "<div>\n<style scoped>\n    .dataframe tbody tr th:only-of-type {\n        vertical-align: middle;\n    }\n\n    .dataframe tbody tr th {\n        vertical-align: top;\n    }\n\n    .dataframe thead th {\n        text-align: right;\n    }\n</style>\n<table border=\"1\" class=\"dataframe\">\n  <thead>\n    <tr style=\"text-align: right;\">\n      <th></th>\n      <th>Borough</th>\n      <th>Neighbourhood</th>\n      <th>Postcode</th>\n    </tr>\n  </thead>\n  <tbody>\n    <tr>\n      <th>2</th>\n      <td>North York</td>\n      <td>Parkwoods</td>\n      <td>M3A</td>\n    </tr>\n    <tr>\n      <th>3</th>\n      <td>North York</td>\n      <td>Victoria Village</td>\n      <td>M4A</td>\n    </tr>\n    <tr>\n      <th>4</th>\n      <td>Downtown Toronto</td>\n      <td>Harbourfront</td>\n      <td>M5A</td>\n    </tr>\n    <tr>\n      <th>5</th>\n      <td>Downtown Toronto</td>\n      <td>Regent Park</td>\n      <td>M5A</td>\n    </tr>\n    <tr>\n      <th>6</th>\n      <td>North York</td>\n      <td>Lawrence Heights</td>\n      <td>M6A</td>\n    </tr>\n    <tr>\n      <th>7</th>\n      <td>North York</td>\n      <td>Lawrence Manor</td>\n      <td>M6A</td>\n    </tr>\n    <tr>\n      <th>8</th>\n      <td>Queen's Park</td>\n      <td>Queen's Park</td>\n      <td>M7A</td>\n    </tr>\n    <tr>\n      <th>10</th>\n      <td>Etobicoke</td>\n      <td>Islington Avenue</td>\n      <td>M9A</td>\n    </tr>\n    <tr>\n      <th>11</th>\n      <td>Scarborough</td>\n      <td>Rouge</td>\n      <td>M1B</td>\n    </tr>\n    <tr>\n      <th>12</th>\n      <td>Scarborough</td>\n      <td>Malvern</td>\n      <td>M1B</td>\n    </tr>\n    <tr>\n      <th>14</th>\n      <td>North York</td>\n      <td>Don Mills North</td>\n      <td>M3B</td>\n    </tr>\n  </tbody>\n</table>\n</div>", 
                        "text/plain": "             Borough     Neighbourhood Postcode\n2         North York         Parkwoods      M3A\n3         North York  Victoria Village      M4A\n4   Downtown Toronto      Harbourfront      M5A\n5   Downtown Toronto       Regent Park      M5A\n6         North York  Lawrence Heights      M6A\n7         North York    Lawrence Manor      M6A\n8       Queen's Park      Queen's Park      M7A\n10         Etobicoke  Islington Avenue      M9A\n11       Scarborough             Rouge      M1B\n12       Scarborough           Malvern      M1B\n14        North York   Don Mills North      M3B"
                    }, 
                    "output_type": "execute_result"
                }
            ], 
            "source": "import numpy as np\nno_unassined_neighborhoods = no_unassined_boroughs.copy()\nno_unassined_neighborhoods['Neighbourhood'] = np.where(no_unassined_boroughs['Neighbourhood'] == 'Not assigned', no_unassined_boroughs.Borough, no_unassined_boroughs.Neighbourhood)\nno_unassined_neighborhoods.head(11)"
        }, 
        {
            "source": "## Cleaning Part 3\n\nThis groups the neighbourhoods that are in the same postcode together separated by columns.", 
            "cell_type": "markdown", 
            "metadata": {}
        }, 
        {
            "execution_count": 23, 
            "cell_type": "code", 
            "metadata": {}, 
            "outputs": [
                {
                    "execution_count": 23, 
                    "metadata": {}, 
                    "data": {
                        "text/plain": "Postcode\nM1B                            Rouge, Malvern\nM1C    Highland Creek, Rouge Hill, Port Union\nM1E         Guildwood, Morningside, West Hill\nM1G                                    Woburn\nM1H                                 Cedarbrae\nName: Neighbourhood, dtype: object"
                    }, 
                    "output_type": "execute_result"
                }
            ], 
            "source": "grouped_postcodes = no_unassined_boroughs.groupby('Postcode')['Neighbourhood'].agg(lambda x: \"%s\" % ', '.join(x))\ngrouped_postcodes.head()"
        }, 
        {
            "execution_count": null, 
            "cell_type": "code", 
            "metadata": {}, 
            "outputs": [], 
            "source": ""
        }
    ], 
    "metadata": {
        "kernelspec": {
            "display_name": "Python 3.5", 
            "name": "python3", 
            "language": "python"
        }, 
        "language_info": {
            "mimetype": "text/x-python", 
            "nbconvert_exporter": "python", 
            "version": "3.5.5", 
            "name": "python", 
            "file_extension": ".py", 
            "pygments_lexer": "ipython3", 
            "codemirror_mode": {
                "version": 3, 
                "name": "ipython"
            }
        }
    }, 
    "nbformat": 4
}